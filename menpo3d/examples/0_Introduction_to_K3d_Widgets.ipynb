{
 "cells": [
  {
   "cell_type": "code",
   "execution_count": 1,
   "metadata": {},
   "outputs": [
    {
     "name": "stderr",
     "output_type": "stream",
     "text": [
      "/home/athanasiosp/gits/menpo/menpo/image/base.py:32: UserWarning: Falling back to scipy interpolation for affine warps\n",
      "  warn(\"Falling back to scipy interpolation for affine warps\")\n"
     ]
    }
   ],
   "source": [
    "import menpo3d.io as m3io\n",
    "from menpo.shape import PointCloud"
   ]
  },
  {
   "cell_type": "markdown",
   "metadata": {},
   "source": [
    "<h3> Load the data (Mesh and Landmarks) </h3>"
   ]
  },
  {
   "cell_type": "code",
   "execution_count": 2,
   "metadata": {},
   "outputs": [],
   "source": [
    "mesh = m3io.import_mesh('../data/james.obj')\n",
    "lms = m3io.import_landmark_file('../data/james.ljson')['LJSON']"
   ]
  },
  {
   "cell_type": "markdown",
   "metadata": {},
   "source": [
    "<h3> Show the mesh </h3>"
   ]
  },
  {
   "cell_type": "code",
   "execution_count": 3,
   "metadata": {},
   "outputs": [
    {
     "data": {
      "application/vnd.jupyter.widget-view+json": {
       "model_id": "f792ef7ea0d34740a3be9a2104447d53",
       "version_major": 2,
       "version_minor": 0
      },
      "text/plain": [
       "K3dwidgetsTexturedTriMeshViewer3d(antialias=3, axes=['x', 'y', 'z'], axes_helper=1.0, background_color=1677721…"
      ]
     },
     "metadata": {},
     "output_type": "display_data"
    }
   ],
   "source": [
    "# Default values for TriMesh, TextureMesh viewer are\n",
    "# figure_id None\n",
    "# new_figure True\n",
    "# in that case an automatic figure_id will be given\n",
    "# with 'Figure_{n}' format\n",
    "# n will be an increased integer starting from zero\n",
    "\n",
    "mesh.view(inline=True,) #wait a bit before magic happens"
   ]
  },
  {
   "cell_type": "markdown",
   "metadata": {},
   "source": [
    "<h3> Show the mesh and landmarks </h3>"
   ]
  },
  {
   "cell_type": "code",
   "execution_count": 4,
   "metadata": {
    "scrolled": true
   },
   "outputs": [
    {
     "data": {
      "application/vnd.jupyter.widget-view+json": {
       "model_id": "073f224f65ea4f61b07e50c5a73f8486",
       "version_major": 2,
       "version_minor": 0
      },
      "text/plain": [
       "K3dwidgetsTexturedTriMeshViewer3d(antialias=3, axes=['x', 'y', 'z'], axes_helper=1.0, background_color=1677721…"
      ]
     },
     "metadata": {},
     "output_type": "display_data"
    }
   ],
   "source": [
    "mesh.view(inline=True, figure_id='James')"
   ]
  },
  {
   "cell_type": "code",
   "execution_count": 5,
   "metadata": {},
   "outputs": [],
   "source": [
    "# Add landmarks to figure with id James\n",
    "lms_poincloud = PointCloud(lms.points)\n",
    "lms_poincloud.view(inline=True, figure_id='James',new_figure=False)"
   ]
  },
  {
   "cell_type": "code",
   "execution_count": 6,
   "metadata": {},
   "outputs": [],
   "source": [
    "# Add landmarks to figure with id Figure_0\n",
    "lms_poincloud.view(inline=True, figure_id='Figure_0', new_figure=False)"
   ]
  },
  {
   "cell_type": "markdown",
   "metadata": {},
   "source": [
    "<h3> Show a mesh that has landmarks </h3>"
   ]
  },
  {
   "cell_type": "code",
   "execution_count": 7,
   "metadata": {},
   "outputs": [],
   "source": [
    "mesh.landmarks = lms"
   ]
  },
  {
   "cell_type": "code",
   "execution_count": 8,
   "metadata": {},
   "outputs": [
    {
     "name": "stderr",
     "output_type": "stream",
     "text": [
      "/home/athanasiosp/miniconda3/envs/my_menpo/lib/python3.5/site-packages/traittypes/traittypes.py:101: UserWarning: Given trait value dtype \"float64\" does not match required type \"float32\". A coerced copy has been created.\n",
      "  np.dtype(self.dtype).name))\n"
     ]
    },
    {
     "data": {
      "application/vnd.jupyter.widget-view+json": {
       "model_id": "85e40b3b4889470bb8551e6a9800bb17",
       "version_major": 2,
       "version_minor": 0
      },
      "text/plain": [
       "K3dwidgetsLandmarkViewer3d(antialias=3, axes=['x', 'y', 'z'], axes_helper=1.0, background_color=16777215, came…"
      ]
     },
     "metadata": {},
     "output_type": "display_data"
    }
   ],
   "source": [
    "# the new figure will have figure_is Figure_1\n",
    "# Note the difference between plotting a pointcloud\n",
    "# and landmarks \n",
    "mesh.landmarks.view(inline=True, new_figure=True)"
   ]
  },
  {
   "cell_type": "code",
   "execution_count": 9,
   "metadata": {},
   "outputs": [
    {
     "name": "stderr",
     "output_type": "stream",
     "text": [
      "/home/athanasiosp/miniconda3/envs/my_menpo/lib/python3.5/site-packages/traittypes/traittypes.py:101: UserWarning: Given trait value dtype \"float64\" does not match required type \"float32\". A coerced copy has been created.\n",
      "  np.dtype(self.dtype).name))\n"
     ]
    },
    {
     "data": {
      "application/vnd.jupyter.widget-view+json": {
       "model_id": "9eb4fc665afa46088aef86383b1f787b",
       "version_major": 2,
       "version_minor": 0
      },
      "text/plain": [
       "K3dwidgetsTexturedTriMeshViewer3d(antialias=3, axes=['x', 'y', 'z'], axes_helper=1.0, background_color=1677721…"
      ]
     },
     "metadata": {},
     "output_type": "display_data"
    }
   ],
   "source": [
    "# The mesh has now landmarks, so they would be plotted as well\n",
    "# the figure id is now Figure_2\n",
    "mesh.view(inline=True)"
   ]
  },
  {
   "cell_type": "markdown",
   "metadata": {},
   "source": [
    "<h3> Fail cases </h3> "
   ]
  },
  {
   "cell_type": "code",
   "execution_count": 10,
   "metadata": {},
   "outputs": [
    {
     "ename": "ValueError",
     "evalue": "You cannot plot a figure with no id and new figure False",
     "output_type": "error",
     "traceback": [
      "\u001b[0;31m--------------------------------------------\u001b[0m",
      "\u001b[0;31mValueError\u001b[0m Traceback (most recent call last)",
      "\u001b[0;32m<ipython-input-10-95ad8d3a293d>\u001b[0m in \u001b[0;36m<module>\u001b[0;34m()\u001b[0m\n\u001b[1;32m      2\u001b[0m \u001b[0;31m# figure_id = None and new_figure=False, so it could not\u001b[0m\u001b[0;34m\u001b[0m\u001b[0;34m\u001b[0m\u001b[0m\n\u001b[1;32m      3\u001b[0m \u001b[0;31m# find a figure with id None\u001b[0m\u001b[0;34m\u001b[0m\u001b[0;34m\u001b[0m\u001b[0m\n\u001b[0;32m----> 4\u001b[0;31m \u001b[0mlms\u001b[0m\u001b[0;34m.\u001b[0m\u001b[0mview\u001b[0m\u001b[0;34m(\u001b[0m\u001b[0minline\u001b[0m\u001b[0;34m=\u001b[0m\u001b[0;32mTrue\u001b[0m\u001b[0;34m,\u001b[0m\u001b[0;34m)\u001b[0m\u001b[0;34m\u001b[0m\u001b[0m\n\u001b[0m",
      "\u001b[0;32m/home/athanasiosp/gits/menpo/menpo/shape/labelled.py\u001b[0m in \u001b[0;36m_view_3d\u001b[0;34m(self, with_labels, without_labels, group, figure_id, new_figure, render_lines, line_colour, line_width, render_markers, marker_style, marker_size, marker_colour, marker_resolution, step, alpha, render_numbering, numbers_colour, numbers_size, inline)\u001b[0m\n\u001b[1;32m    856\u001b[0m                     \u001b[0mlmark_group\u001b[0m \u001b[0;34m=\u001b[0m \u001b[0mself\u001b[0m  \u001b[0;31m# Fall through\u001b[0m\u001b[0;34m\u001b[0m\u001b[0m\n\u001b[1;32m    857\u001b[0m                 landmark_viewer = LandmarkInlineViewer3d(\n\u001b[0;32m--> 858\u001b[0;31m                     \u001b[0mfigure_id\u001b[0m\u001b[0;34m,\u001b[0m \u001b[0mnew_figure\u001b[0m\u001b[0;34m,\u001b[0m \u001b[0mgroup\u001b[0m\u001b[0;34m,\u001b[0m \u001b[0mlmark_group\u001b[0m\u001b[0;34m\u001b[0m\u001b[0m\n\u001b[0m\u001b[1;32m    859\u001b[0m                 )\n\u001b[1;32m    860\u001b[0m                 return landmark_viewer._render(\n",
      "\u001b[0;32m/home/athanasiosp/gits/menpo3d/menpo3d/visualize/viewk3dwidgets.py\u001b[0m in \u001b[0;36m__init__\u001b[0;34m(self, figure_id, new_figure, group, landmark_group)\u001b[0m\n\u001b[1;32m    511\u001b[0m \u001b[0;32mclass\u001b[0m \u001b[0mK3dwidgetsLandmarkViewer3d\u001b[0m\u001b[0;34m(\u001b[0m\u001b[0mK3dwidgetsRenderer\u001b[0m\u001b[0;34m)\u001b[0m\u001b[0;34m:\u001b[0m\u001b[0;34m\u001b[0m\u001b[0m\n\u001b[1;32m    512\u001b[0m     \u001b[0;32mdef\u001b[0m \u001b[0m__init__\u001b[0m\u001b[0;34m(\u001b[0m\u001b[0mself\u001b[0m\u001b[0;34m,\u001b[0m \u001b[0mfigure_id\u001b[0m\u001b[0;34m,\u001b[0m \u001b[0mnew_figure\u001b[0m\u001b[0;34m,\u001b[0m \u001b[0mgroup\u001b[0m\u001b[0;34m,\u001b[0m \u001b[0mlandmark_group\u001b[0m\u001b[0;34m)\u001b[0m\u001b[0;34m:\u001b[0m\u001b[0;34m\u001b[0m\u001b[0m\n\u001b[0;32m--> 513\u001b[0;31m         \u001b[0msuper\u001b[0m\u001b[0;34m(\u001b[0m\u001b[0mK3dwidgetsLandmarkViewer3d\u001b[0m\u001b[0;34m,\u001b[0m \u001b[0mself\u001b[0m\u001b[0;34m)\u001b[0m\u001b[0;34m.\u001b[0m\u001b[0m__init__\u001b[0m\u001b[0;34m(\u001b[0m\u001b[0mfigure_id\u001b[0m\u001b[0;34m,\u001b[0m \u001b[0mnew_figure\u001b[0m\u001b[0;34m)\u001b[0m\u001b[0;34m\u001b[0m\u001b[0m\n\u001b[0m\u001b[1;32m    514\u001b[0m         \u001b[0mself\u001b[0m\u001b[0;34m.\u001b[0m\u001b[0mgroup\u001b[0m \u001b[0;34m=\u001b[0m \u001b[0mgroup\u001b[0m\u001b[0;34m\u001b[0m\u001b[0m\n\u001b[1;32m    515\u001b[0m         \u001b[0mself\u001b[0m\u001b[0;34m.\u001b[0m\u001b[0mlandmark_group\u001b[0m \u001b[0;34m=\u001b[0m \u001b[0mlandmark_group\u001b[0m\u001b[0;34m\u001b[0m\u001b[0m\n",
      "\u001b[0;32m/home/athanasiosp/gits/menpo3d/menpo3d/visualize/viewk3dwidgets.py\u001b[0m in \u001b[0;36m__init__\u001b[0;34m(self, figure_id, new_figure)\u001b[0m\n\u001b[1;32m    103\u001b[0m             \u001b[0;32melse\u001b[0m\u001b[0;34m:\u001b[0m\u001b[0;34m\u001b[0m\u001b[0m\n\u001b[1;32m    104\u001b[0m                 \u001b[0mself\u001b[0m\u001b[0;34m.\u001b[0m\u001b[0mremove_widget\u001b[0m\u001b[0;34m(\u001b[0m\u001b[0;34m)\u001b[0m\u001b[0;34m\u001b[0m\u001b[0m\n\u001b[0;32m--> 105\u001b[0;31m                 \u001b[0;32mraise\u001b[0m \u001b[0mValueError\u001b[0m\u001b[0;34m(\u001b[0m\u001b[0;34m'You cannot plot a figure with no id and new figure False'\u001b[0m\u001b[0;34m)\u001b[0m\u001b[0;34m\u001b[0m\u001b[0m\n\u001b[0m\u001b[1;32m    106\u001b[0m         \u001b[0;32melse\u001b[0m\u001b[0;34m:\u001b[0m\u001b[0;34m\u001b[0m\u001b[0m\n\u001b[1;32m    107\u001b[0m             \u001b[0;32mif\u001b[0m \u001b[0mnew_figure\u001b[0m\u001b[0;34m:\u001b[0m\u001b[0;34m\u001b[0m\u001b[0m\n",
      "\u001b[0;31mValueError\u001b[0m: You cannot plot a figure with no id and new figure False"
     ]
    }
   ],
   "source": [
    "# It should fail, as default values for landmarker viewer are\n",
    "# figure_id = None and new_figure=False, so it could not\n",
    "# find a figure with id None\n",
    "lms.view(inline=True,)"
   ]
  },
  {
   "cell_type": "code",
   "execution_count": 11,
   "metadata": {},
   "outputs": [
    {
     "ename": "ValueError",
     "evalue": "Figure id is already given",
     "output_type": "error",
     "traceback": [
      "\u001b[0;31m--------------------------------------------\u001b[0m",
      "\u001b[0;31mValueError\u001b[0m Traceback (most recent call last)",
      "\u001b[0;32m<ipython-input-11-13d42687c26e>\u001b[0m in \u001b[0;36m<module>\u001b[0;34m()\u001b[0m\n\u001b[1;32m      1\u001b[0m \u001b[0;31m# It should fail, as we have already had a figure with id\u001b[0m\u001b[0;34m\u001b[0m\u001b[0;34m\u001b[0m\u001b[0m\n\u001b[1;32m      2\u001b[0m \u001b[0;31m# James and we cannot create a new one with the same figure_id\u001b[0m\u001b[0;34m\u001b[0m\u001b[0;34m\u001b[0m\u001b[0m\n\u001b[0;32m----> 3\u001b[0;31m \u001b[0mmesh\u001b[0m\u001b[0;34m.\u001b[0m\u001b[0mview\u001b[0m\u001b[0;34m(\u001b[0m\u001b[0minline\u001b[0m\u001b[0;34m=\u001b[0m\u001b[0;32mTrue\u001b[0m\u001b[0;34m,\u001b[0m \u001b[0mfigure_id\u001b[0m\u001b[0;34m=\u001b[0m\u001b[0;34m'James'\u001b[0m\u001b[0;34m,\u001b[0m \u001b[0mnew_figure\u001b[0m\u001b[0;34m=\u001b[0m\u001b[0;32mTrue\u001b[0m\u001b[0;34m)\u001b[0m\u001b[0;34m\u001b[0m\u001b[0m\n\u001b[0m",
      "\u001b[0;32m/home/athanasiosp/gits/menpo/menpo/shape/mesh/textured.py\u001b[0m in \u001b[0;36m_view_3d\u001b[0;34m(self, figure_id, new_figure, render_texture, mesh_type, ambient_light, specular_light, colour, line_width, normals, normals_colour, normals_line_width, normals_marker_style, normals_marker_resolution, normals_marker_size, step, alpha, inline)\u001b[0m\n\u001b[1;32m    383\u001b[0m                                                              \u001b[0mself\u001b[0m\u001b[0;34m.\u001b[0m\u001b[0mtexture\u001b[0m\u001b[0;34m,\u001b[0m\u001b[0;34m\u001b[0m\u001b[0m\n\u001b[1;32m    384\u001b[0m                                                              \u001b[0mself\u001b[0m\u001b[0;34m.\u001b[0m\u001b[0mtcoords\u001b[0m\u001b[0;34m,\u001b[0m\u001b[0;34m\u001b[0m\u001b[0m\n\u001b[0;32m--> 385\u001b[0;31m                                                              self.landmarks)\n\u001b[0m\u001b[1;32m    386\u001b[0m                     render_return = renderer._render(\n\u001b[1;32m    387\u001b[0m                         \u001b[0mmesh_type\u001b[0m\u001b[0;34m=\u001b[0m\u001b[0mmesh_type\u001b[0m\u001b[0;34m,\u001b[0m\u001b[0;34m\u001b[0m\u001b[0m\n",
      "\u001b[0;32m/home/athanasiosp/gits/menpo3d/menpo3d/visualize/viewk3dwidgets.py\u001b[0m in \u001b[0;36m__init__\u001b[0;34m(self, figure_id, new_figure, points, trilist, texture, tcoords, landmarks)\u001b[0m\n\u001b[1;32m    389\u001b[0m                  tcoords, landmarks):\n\u001b[1;32m    390\u001b[0m         super(K3dwidgetsTexturedTriMeshViewer3d, self).__init__(figure_id,\n\u001b[0;32m--> 391\u001b[0;31m                                                                 new_figure)\n\u001b[0m\u001b[1;32m    392\u001b[0m         \u001b[0mself\u001b[0m\u001b[0;34m.\u001b[0m\u001b[0mpoints\u001b[0m \u001b[0;34m=\u001b[0m \u001b[0mpoints\u001b[0m\u001b[0;34m\u001b[0m\u001b[0m\n\u001b[1;32m    393\u001b[0m         \u001b[0mself\u001b[0m\u001b[0;34m.\u001b[0m\u001b[0mtrilist\u001b[0m \u001b[0;34m=\u001b[0m \u001b[0mtrilist\u001b[0m\u001b[0;34m\u001b[0m\u001b[0m\n",
      "\u001b[0;32m/home/athanasiosp/gits/menpo3d/menpo3d/visualize/viewk3dwidgets.py\u001b[0m in \u001b[0;36m__init__\u001b[0;34m(self, figure_id, new_figure)\u001b[0m\n\u001b[1;32m    110\u001b[0m                         \u001b[0;32mif\u001b[0m \u001b[0mx\u001b[0m\u001b[0;34m.\u001b[0m\u001b[0mfigure_id\u001b[0m \u001b[0;34m==\u001b[0m \u001b[0mfigure_id\u001b[0m\u001b[0;34m:\u001b[0m\u001b[0;34m\u001b[0m\u001b[0m\n\u001b[1;32m    111\u001b[0m                             \u001b[0mself\u001b[0m\u001b[0;34m.\u001b[0m\u001b[0mremove_widget\u001b[0m\u001b[0;34m(\u001b[0m\u001b[0;34m)\u001b[0m\u001b[0;34m\u001b[0m\u001b[0m\n\u001b[0;32m--> 112\u001b[0;31m                             \u001b[0;32mraise\u001b[0m \u001b[0mValueError\u001b[0m\u001b[0;34m(\u001b[0m\u001b[0;34m'Figure id is already given'\u001b[0m\u001b[0;34m)\u001b[0m\u001b[0;34m\u001b[0m\u001b[0m\n\u001b[0m\u001b[1;32m    113\u001b[0m \u001b[0;34m\u001b[0m\u001b[0m\n\u001b[1;32m    114\u001b[0m         \u001b[0mself\u001b[0m\u001b[0;34m.\u001b[0m\u001b[0mfigure_id\u001b[0m \u001b[0;34m=\u001b[0m \u001b[0mfigure_id\u001b[0m\u001b[0;34m\u001b[0m\u001b[0m\n",
      "\u001b[0;31mValueError\u001b[0m: Figure id is already given"
     ]
    }
   ],
   "source": [
    "# It should fail, as we have already had a figure with id \n",
    "# James and we cannot create a new one with the same figure_id\n",
    "mesh.view(inline=True, figure_id='James', new_figure=True)"
   ]
  },
  {
   "cell_type": "markdown",
   "metadata": {},
   "source": [
    "<h3> Testing </h3>"
   ]
  },
  {
   "cell_type": "code",
   "execution_count": null,
   "metadata": {},
   "outputs": [],
   "source": [
    "from ipywidgets import Widget\n",
    "from menpo3d.visualize.viewk3dwidgets import K3dwidgetsRenderer"
   ]
  },
  {
   "cell_type": "code",
   "execution_count": null,
   "metadata": {},
   "outputs": [],
   "source": [
    "for x in Widget.widgets.values():\n",
    "    #print(type(x),x.model_id)\n",
    "    if isinstance(x, K3dwidgetsRenderer):\n",
    "        print(type(x),x.model_id, x.figure_id)"
   ]
  }
 ],
 "metadata": {
  "kernelspec": {
   "display_name": "Python 3",
   "language": "python",
   "name": "python3"
  },
  "language_info": {
   "codemirror_mode": {
    "name": "ipython",
    "version": 3
   },
   "file_extension": ".py",
   "mimetype": "text/x-python",
   "name": "python",
   "nbconvert_exporter": "python",
   "pygments_lexer": "ipython3",
   "version": "3.5.6"
  }
 },
 "nbformat": 4,
 "nbformat_minor": 4
}
