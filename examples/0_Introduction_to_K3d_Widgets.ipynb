{
 "cells": [
  {
   "cell_type": "code",
   "execution_count": null,
   "metadata": {},
   "outputs": [],
   "source": [
    "import menpo3d.io as m3io\n",
    "import menpo.io as mio\n",
    "from menpo.shape import PointCloud\n",
    "from menpo.landmark import face_ibug_68_to_face_ibug_68\n",
    "import numpy as np"
   ]
  },
  {
   "cell_type": "markdown",
   "metadata": {},
   "source": [
    "<h3> Load the data (Mesh, landmarks and model) </h3>"
   ]
  },
  {
   "cell_type": "code",
   "execution_count": null,
   "metadata": {},
   "outputs": [],
   "source": [
    "mesh = m3io.import_mesh('../menpo3d/data/james.obj')\n",
    "lms = m3io.import_landmark_file('../menpo3d/data/james.ljson')['LJSON']\n",
    "\n",
    "# Load model and its landmarks indices \n",
    "model =  mio.import_pickle('../menpo3d/data/3DMD_all_all_all_10.pkl')['model']\n",
    "lms_indices = [21868, 22404, 22298, 22327, 43430, 45175, 46312, 47132, 47911, 48692,\n",
    "               49737, 51376, 53136, 32516, 32616, 32205, 32701, 38910, 39396, 39693,\n",
    "               39934, 40131, 40843, 41006, 41179, 41430, 13399, 8161, 8172, 8179, 8185,\n",
    "               5622, 6881, 8202, 9403, 10764, 1831, 3887, 5049, 6214, 4805, 3643, 9955,\n",
    "               11095, 12255, 14197, 12397, 11366, 5779, 6024, 7014, 8215, 9294, 10267,\n",
    "               10922, 9556, 8836, 8236, 7636, 6794, 5905, 7264, 8223, 9063, 10404, 8828,\n",
    "               8228, 7509]"
   ]
  },
  {
   "cell_type": "markdown",
   "metadata": {},
   "source": [
    "<h3> Create new random instances </h3>"
   ]
  },
  {
   "cell_type": "code",
   "execution_count": null,
   "metadata": {},
   "outputs": [],
   "source": [
    "cov = np.diag(model.eigenvalues)\n",
    "model_mean = model.mean()\n",
    "synthetic_weights = np.random.multivariate_normal(np.zeros(model.n_active_components),\n",
    "                                                 cov, 1000)\n",
    "random_mesh = model.instance(synthetic_weights[5])"
   ]
  },
  {
   "cell_type": "markdown",
   "metadata": {},
   "source": [
    "<h3> Show the mesh </h3>"
   ]
  },
  {
   "cell_type": "code",
   "execution_count": null,
   "metadata": {
    "scrolled": true
   },
   "outputs": [],
   "source": [
    "# Default values for TriMesh, TextureMesh viewer are\n",
    "# figure_id None\n",
    "# new_figure True\n",
    "# in that case an automatic figure_id will be given\n",
    "# with 'Figure_{n}' format\n",
    "# n will be an increased integer starting from zero\n",
    "\n",
    "mesh.view(inline=True,) #wait a bit before magic happens"
   ]
  },
  {
   "cell_type": "markdown",
   "metadata": {},
   "source": [
    "<h3> Show the mesh and landmarks </h3>"
   ]
  },
  {
   "cell_type": "code",
   "execution_count": null,
   "metadata": {
    "scrolled": false
   },
   "outputs": [],
   "source": [
    "mesh.view(inline=True, figure_id='James')"
   ]
  },
  {
   "cell_type": "code",
   "execution_count": null,
   "metadata": {},
   "outputs": [],
   "source": [
    "# Add landmarks to figure with id James\n",
    "lms_poincloud = PointCloud(lms.points)\n",
    "lms_poincloud.view(inline=True, figure_id='James',new_figure=False)"
   ]
  },
  {
   "cell_type": "code",
   "execution_count": null,
   "metadata": {},
   "outputs": [],
   "source": [
    "# Add landmarks to figure with id Figure_0\n",
    "lms_poincloud.view(inline=True, figure_id='Figure_0', new_figure=False)"
   ]
  },
  {
   "cell_type": "markdown",
   "metadata": {},
   "source": [
    "<h3> Show a mesh that has landmarks </h3>"
   ]
  },
  {
   "cell_type": "code",
   "execution_count": null,
   "metadata": {},
   "outputs": [],
   "source": [
    "mesh.landmarks = lms"
   ]
  },
  {
   "cell_type": "code",
   "execution_count": null,
   "metadata": {},
   "outputs": [],
   "source": [
    "# the new figure will have figure_id Figure_1\n",
    "# Note the difference between plotting a pointcloud\n",
    "# and landmarks \n",
    "mesh.landmarks.view(inline=True, new_figure=True)"
   ]
  },
  {
   "cell_type": "code",
   "execution_count": null,
   "metadata": {},
   "outputs": [],
   "source": [
    "# The mesh has now landmarks, so they would be plotted as well\n",
    "# the figure id is now Figure_2\n",
    "mesh.view(inline=True)"
   ]
  },
  {
   "cell_type": "markdown",
   "metadata": {},
   "source": [
    "<h3> HeatMaps </h3>"
   ]
  },
  {
   "cell_type": "code",
   "execution_count": null,
   "metadata": {},
   "outputs": [],
   "source": [
    "# Heatmap between a random mesh and mean mesh\n",
    "random_mesh.heatmap(model_mean, inline=True)"
   ]
  },
  {
   "cell_type": "code",
   "execution_count": null,
   "metadata": {},
   "outputs": [],
   "source": [
    "# Heatmap with statistics \n",
    "# Be careful, since we have already drawn a heatmap between\n",
    "# random and mean, we should use another name for figure\n",
    "random_mesh.heatmap(model_mean, inline=True, show_statistics=True, figure_id='Heatmap2')"
   ]
  },
  {
   "cell_type": "code",
   "execution_count": null,
   "metadata": {},
   "outputs": [],
   "source": [
    "# Heatmap with landmarks\n",
    "random_mesh.landmarks = face_ibug_68_to_face_ibug_68(PointCloud(random_mesh.points[lms_indices]))\n",
    "random_mesh.heatmap(model_mean, inline=True, show_statistics=True, figure_id='Heatmap3')"
   ]
  },
  {
   "cell_type": "markdown",
   "metadata": {},
   "source": [
    "<h3> View a Morphable Model </h3>"
   ]
  },
  {
   "cell_type": "code",
   "execution_count": null,
   "metadata": {
    "scrolled": false
   },
   "outputs": [],
   "source": [
    "model.view(inline=True, figure_id='Model', n_parameters=10, landmarks_indices=lms_indices)"
   ]
  },
  {
   "cell_type": "code",
   "execution_count": null,
   "metadata": {},
   "outputs": [],
   "source": [
    "model.view(widget_style='')"
   ]
  },
  {
   "cell_type": "markdown",
   "metadata": {},
   "source": [
    "<h3> Fail cases (supposed you have already executed all the above cells)</h3> "
   ]
  },
  {
   "cell_type": "code",
   "execution_count": null,
   "metadata": {},
   "outputs": [],
   "source": [
    "# It should fail if the previous cells have been executed, as default values for landmarker viewer are\n",
    "# figure_id = None and new_figure=False, so it could not\n",
    "# find a figure with id None\n",
    "lms.view(inline=True,)"
   ]
  },
  {
   "cell_type": "code",
   "execution_count": null,
   "metadata": {},
   "outputs": [],
   "source": [
    "# It should fail if the previous cells have been executed, as we have already had a figure with id \n",
    "# James and we cannot create a new one with the same figure_id\n",
    "mesh.view(inline=True, figure_id='James', new_figure=True)"
   ]
  },
  {
   "cell_type": "code",
   "execution_count": null,
   "metadata": {},
   "outputs": [],
   "source": [
    "# It should fail if the previous cells have been executed, as we have already had a figure with id \n",
    "# Model and we cannot create a new one with the same figure_id\n",
    "model.view(inline=True, figure_id='Model')"
   ]
  },
  {
   "cell_type": "code",
   "execution_count": null,
   "metadata": {},
   "outputs": [],
   "source": [
    "# You have already created a heatmap between random_mesh and model_mean\n",
    "\n",
    "random_mesh.heatmap(model_mean, inline=True)"
   ]
  },
  {
   "cell_type": "markdown",
   "metadata": {},
   "source": [
    "<h3> Additional functions </h3>"
   ]
  },
  {
   "cell_type": "code",
   "execution_count": null,
   "metadata": {},
   "outputs": [],
   "source": [
    "from menpo3d.visualize import list_figures, dict_figures"
   ]
  },
  {
   "cell_type": "code",
   "execution_count": null,
   "metadata": {},
   "outputs": [],
   "source": [
    "list_figures()"
   ]
  },
  {
   "cell_type": "code",
   "execution_count": null,
   "metadata": {},
   "outputs": [],
   "source": [
    "dict_figures()"
   ]
  },
  {
   "cell_type": "markdown",
   "metadata": {},
   "source": [
    "<h3> Testing </h3>"
   ]
  },
  {
   "cell_type": "code",
   "execution_count": null,
   "metadata": {},
   "outputs": [],
   "source": [
    "from ipywidgets import Widget\n",
    "from menpo3d.visualize.viewk3dwidgets import K3dwidgetsRenderer"
   ]
  },
  {
   "cell_type": "code",
   "execution_count": null,
   "metadata": {},
   "outputs": [],
   "source": [
    "for x in Widget.widgets.values():\n",
    "    print(type(x),x.model_id)\n",
    "#    if isinstance(x, K3dwidgetsRenderer):\n",
    "    if hasattr(x,'figure_id'):\n",
    "        print(type(x),x.model_id, x.figure_id)"
   ]
  },
  {
   "cell_type": "code",
   "execution_count": null,
   "metadata": {},
   "outputs": [],
   "source": [
    "list_figures()"
   ]
  }
 ],
 "metadata": {
  "kernelspec": {
   "display_name": "Python 3",
   "language": "python",
   "name": "python3"
  },
  "language_info": {
   "codemirror_mode": {
    "name": "ipython",
    "version": 3
   },
   "file_extension": ".py",
   "mimetype": "text/x-python",
   "name": "python",
   "nbconvert_exporter": "python",
   "pygments_lexer": "ipython3",
   "version": "3.7.9"
  }
 },
 "nbformat": 4,
 "nbformat_minor": 4
}
