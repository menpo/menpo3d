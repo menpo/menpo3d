{
 "cells": [
  {
   "cell_type": "code",
   "execution_count": 1,
   "metadata": {},
   "outputs": [
    {
     "name": "stderr",
     "output_type": "stream",
     "text": [
      "/home/athanasiosp/gits/menpo/menpo/image/base.py:32: UserWarning: Falling back to scipy interpolation for affine warps\n",
      "  warn(\"Falling back to scipy interpolation for affine warps\")\n"
     ]
    }
   ],
   "source": [
    "import menpo3d.io as m3io\n",
    "import menpo.io as mio\n",
    "from menpo.shape import PointCloud, ColouredTriMesh\n",
    "from menpo.landmark import face_ibug_68_to_face_ibug_68\n",
    "import numpy as np"
   ]
  },
  {
   "cell_type": "markdown",
   "metadata": {},
   "source": [
    "<h3> Load the data (Mesh, landmarks and model) </h3>"
   ]
  },
  {
   "cell_type": "code",
   "execution_count": 2,
   "metadata": {},
   "outputs": [],
   "source": [
    "mesh = m3io.import_mesh('../menpo3d/data/james.obj')\n",
    "lms = m3io.import_landmark_file('../menpo3d/data/james.ljson')['LJSON']\n",
    "\n",
    "# Load model and its landmarks indices \n",
    "model =  mio.import_pickle('../menpo3d/data/3DMD_all_all_all_10.pkl')['model']\n",
    "lms_indices = [21868, 22404, 22298, 22327, 43430, 45175, 46312, 47132, 47911, 48692,\n",
    "               49737, 51376, 53136, 32516, 32616, 32205, 32701, 38910, 39396, 39693,\n",
    "               39934, 40131, 40843, 41006, 41179, 41430, 13399, 8161, 8172, 8179, 8185,\n",
    "               5622, 6881, 8202, 9403, 10764, 1831, 3887, 5049, 6214, 4805, 3643, 9955,\n",
    "               11095, 12255, 14197, 12397, 11366, 5779, 6024, 7014, 8215, 9294, 10267,\n",
    "               10922, 9556, 8836, 8236, 7636, 6794, 5905, 7264, 8223, 9063, 10404, 8828,\n",
    "               8228, 7509]"
   ]
  },
  {
   "cell_type": "markdown",
   "metadata": {},
   "source": [
    "<h3> Create new random instances </h3>"
   ]
  },
  {
   "cell_type": "code",
   "execution_count": 3,
   "metadata": {},
   "outputs": [],
   "source": [
    "cov = np.diag(model.eigenvalues)\n",
    "model_mean = model.mean()\n",
    "synthetic_weights = np.random.multivariate_normal(np.zeros(model.n_active_components),\n",
    "                                                 cov, 1000)\n",
    "random_mesh = model.instance(synthetic_weights[5])"
   ]
  },
  {
   "cell_type": "markdown",
   "metadata": {},
   "source": [
    "<h3> Show the mesh </h3>"
   ]
  },
  {
   "cell_type": "code",
   "execution_count": 4,
   "metadata": {
    "scrolled": false
   },
   "outputs": [
    {
     "data": {
      "application/vnd.jupyter.widget-view+json": {
       "model_id": "dc863eb9632a4b229e016d1fc0703d82",
       "version_major": 2,
       "version_minor": 0
      },
      "text/plain": [
       "K3dwidgetsTexturedTriMeshViewer3d(antialias=3, axes=['x', 'y', 'z'], axes_helper=1.0, background_color=1677721…"
      ]
     },
     "metadata": {},
     "output_type": "display_data"
    }
   ],
   "source": [
    "# Default values for TriMesh, TextureMesh viewer are\n",
    "# figure_id None\n",
    "# new_figure True\n",
    "# in that case an automatic figure_id will be given\n",
    "# with 'Figure_{n}' format\n",
    "# n will be an increased integer starting from zero\n",
    "mesh.view(inline=True) # wait a bit before magic happens"
   ]
  },
  {
   "cell_type": "markdown",
   "metadata": {},
   "source": [
    "<h3> Show the mesh and landmarks </h3>"
   ]
  },
  {
   "cell_type": "code",
   "execution_count": null,
   "metadata": {
    "scrolled": false
   },
   "outputs": [],
   "source": [
    "mesh.view(inline=True, figure_id='James2')"
   ]
  },
  {
   "cell_type": "code",
   "execution_count": 6,
   "metadata": {},
   "outputs": [
    {
     "ename": "Exception",
     "evalue": "Figure with id James was not found ",
     "output_type": "error",
     "traceback": [
      "\u001b[0;31m---------------------------------------------------------------------------\u001b[0m",
      "\u001b[0;31mException\u001b[0m                                 Traceback (most recent call last)",
      "\u001b[0;32m<ipython-input-6-467436c9dd90>\u001b[0m in \u001b[0;36m<module>\u001b[0;34m()\u001b[0m\n\u001b[1;32m      1\u001b[0m \u001b[0;31m# Add landmarks to figure with id James\u001b[0m\u001b[0;34m\u001b[0m\u001b[0;34m\u001b[0m\u001b[0m\n\u001b[1;32m      2\u001b[0m \u001b[0mlms_poincloud\u001b[0m \u001b[0;34m=\u001b[0m \u001b[0mPointCloud\u001b[0m\u001b[0;34m(\u001b[0m\u001b[0mlms\u001b[0m\u001b[0;34m.\u001b[0m\u001b[0mpoints\u001b[0m\u001b[0;34m)\u001b[0m\u001b[0;34m\u001b[0m\u001b[0m\n\u001b[0;32m----> 3\u001b[0;31m \u001b[0mlms_poincloud\u001b[0m\u001b[0;34m.\u001b[0m\u001b[0mview\u001b[0m\u001b[0;34m(\u001b[0m\u001b[0minline\u001b[0m\u001b[0;34m=\u001b[0m\u001b[0;32mTrue\u001b[0m\u001b[0;34m,\u001b[0m \u001b[0mfigure_id\u001b[0m\u001b[0;34m=\u001b[0m\u001b[0;34m'James'\u001b[0m\u001b[0;34m,\u001b[0m\u001b[0mnew_figure\u001b[0m\u001b[0;34m=\u001b[0m\u001b[0;32mFalse\u001b[0m\u001b[0;34m)\u001b[0m\u001b[0;34m\u001b[0m\u001b[0m\n\u001b[0m",
      "\u001b[0;32m/home/athanasiosp/gits/menpo/menpo/shape/pointcloud.py\u001b[0m in \u001b[0;36m_view_3d\u001b[0;34m(self, figure_id, new_figure, render_markers, marker_style, marker_size, marker_colour, marker_resolution, step, alpha, render_numbering, numbers_colour, numbers_size, inline, **kwargs)\u001b[0m\n\u001b[1;32m   1164\u001b[0m                     \u001b[0mrender_numbering\u001b[0m\u001b[0;34m=\u001b[0m\u001b[0mrender_numbering\u001b[0m\u001b[0;34m,\u001b[0m\u001b[0;34m\u001b[0m\u001b[0m\n\u001b[1;32m   1165\u001b[0m                     \u001b[0mnumbers_colour\u001b[0m\u001b[0;34m=\u001b[0m\u001b[0mnumbers_colour\u001b[0m\u001b[0;34m,\u001b[0m\u001b[0;34m\u001b[0m\u001b[0m\n\u001b[0;32m-> 1166\u001b[0;31m                     \u001b[0mnumbers_size\u001b[0m\u001b[0;34m=\u001b[0m\u001b[0mnumbers_size\u001b[0m\u001b[0;34m,\u001b[0m\u001b[0;34m\u001b[0m\u001b[0m\n\u001b[0m\u001b[1;32m   1167\u001b[0m                 )\n\u001b[1;32m   1168\u001b[0m                 \u001b[0;32mif\u001b[0m \u001b[0mrender_return\u001b[0m \u001b[0;32mis\u001b[0m \u001b[0;32mnot\u001b[0m \u001b[0mrenderer\u001b[0m\u001b[0;34m:\u001b[0m\u001b[0;34m\u001b[0m\u001b[0m\n",
      "\u001b[0;32m/home/athanasiosp/gits/menpo3d/menpo3d/visualize/viewk3dwidgets.py\u001b[0m in \u001b[0;36m_render\u001b[0;34m(self, render_lines, line_colour, line_width, render_markers, marker_style, marker_size, marker_colour, render_numbering, numbers_colour, numbers_size)\u001b[0m\n\u001b[1;32m    314\u001b[0m                 numbers_colour='k', numbers_size=None):\n\u001b[1;32m    315\u001b[0m \u001b[0;34m\u001b[0m\u001b[0m\n\u001b[0;32m--> 316\u001b[0;31m         \u001b[0mwidg_to_draw\u001b[0m \u001b[0;34m=\u001b[0m \u001b[0msuper\u001b[0m\u001b[0;34m(\u001b[0m\u001b[0mK3dwidgetsPointGraphViewer3d\u001b[0m\u001b[0;34m,\u001b[0m \u001b[0mself\u001b[0m\u001b[0;34m)\u001b[0m\u001b[0;34m.\u001b[0m\u001b[0m_render\u001b[0m\u001b[0;34m(\u001b[0m\u001b[0;34m)\u001b[0m\u001b[0;34m\u001b[0m\u001b[0m\n\u001b[0m\u001b[1;32m    317\u001b[0m         \u001b[0;31m# Render the lines if requested\u001b[0m\u001b[0;34m\u001b[0m\u001b[0;34m\u001b[0m\u001b[0m\n\u001b[1;32m    318\u001b[0m         \u001b[0;32mif\u001b[0m \u001b[0mrender_lines\u001b[0m\u001b[0;34m:\u001b[0m\u001b[0;34m\u001b[0m\u001b[0m\n",
      "\u001b[0;32m/home/athanasiosp/gits/menpo3d/menpo3d/visualize/viewk3dwidgets.py\u001b[0m in \u001b[0;36m_render\u001b[0;34m(self)\u001b[0m\n\u001b[1;32m    143\u001b[0m                         \u001b[0;32mreturn\u001b[0m \u001b[0mwidg_to_draw\u001b[0m\u001b[0;34m\u001b[0m\u001b[0m\n\u001b[1;32m    144\u001b[0m             \u001b[0mself\u001b[0m\u001b[0;34m.\u001b[0m\u001b[0mremove_widget\u001b[0m\u001b[0;34m(\u001b[0m\u001b[0;34m)\u001b[0m\u001b[0;34m\u001b[0m\u001b[0m\n\u001b[0;32m--> 145\u001b[0;31m             \u001b[0;32mraise\u001b[0m \u001b[0mException\u001b[0m\u001b[0;34m(\u001b[0m\u001b[0;34m'Figure with id {} was not found '\u001b[0m\u001b[0;34m.\u001b[0m\u001b[0mformat\u001b[0m\u001b[0;34m(\u001b[0m\u001b[0mself\u001b[0m\u001b[0;34m.\u001b[0m\u001b[0mfigure_id\u001b[0m\u001b[0;34m)\u001b[0m\u001b[0;34m)\u001b[0m\u001b[0;34m\u001b[0m\u001b[0m\n\u001b[0m\u001b[1;32m    146\u001b[0m \u001b[0;34m\u001b[0m\u001b[0m\n\u001b[1;32m    147\u001b[0m         \u001b[0;32mreturn\u001b[0m \u001b[0mwidg_to_draw\u001b[0m\u001b[0;34m\u001b[0m\u001b[0m\n",
      "\u001b[0;31mException\u001b[0m: Figure with id James was not found "
     ]
    }
   ],
   "source": [
    "# Add landmarks to figure with id James\n",
    "lms_poincloud = PointCloud(lms.points)\n",
    "lms_poincloud.view(inline=True, figure_id='James',new_figure=False)"
   ]
  },
  {
   "cell_type": "code",
   "execution_count": 7,
   "metadata": {},
   "outputs": [],
   "source": [
    "# Add landmarks to figure with id Figure_0\n",
    "lms_poincloud.view(inline=True, figure_id='Figure_0', new_figure=False)"
   ]
  },
  {
   "cell_type": "markdown",
   "metadata": {},
   "source": [
    "<h3> Show a mesh that has landmarks </h3>"
   ]
  },
  {
   "cell_type": "code",
   "execution_count": null,
   "metadata": {},
   "outputs": [],
   "source": [
    "mesh.landmarks = lms"
   ]
  },
  {
   "cell_type": "code",
   "execution_count": null,
   "metadata": {},
   "outputs": [],
   "source": [
    "lms.view(inline=True, new_figure=True, render_numbering=True)"
   ]
  },
  {
   "cell_type": "code",
   "execution_count": null,
   "metadata": {},
   "outputs": [],
   "source": [
    "# The mesh has now landmarks, so they would be plotted as well\n",
    "# the figure id is now Figure_2\n",
    "mesh.view(inline=True,)"
   ]
  },
  {
   "cell_type": "code",
   "execution_count": null,
   "metadata": {},
   "outputs": [],
   "source": [
    "# Show the TexturedMesh without texture\n",
    "mesh.view(inline=True, render_texture=False)"
   ]
  },
  {
   "cell_type": "markdown",
   "metadata": {},
   "source": [
    "<h3> HeatMaps </h3>"
   ]
  },
  {
   "cell_type": "code",
   "execution_count": null,
   "metadata": {},
   "outputs": [],
   "source": [
    "# Heatmap between a random mesh and mean mesh\n",
    "random_mesh.heatmap(model_mean, inline=True)"
   ]
  },
  {
   "cell_type": "code",
   "execution_count": null,
   "metadata": {},
   "outputs": [],
   "source": [
    "# Heatmap with statistics \n",
    "# Be careful, since we have already drawn a heatmap between\n",
    "# random and mean, we should use another name for figure\n",
    "random_mesh.heatmap(model_mean, inline=True, show_statistics=True, figure_id='Heatmap2')"
   ]
  },
  {
   "cell_type": "code",
   "execution_count": null,
   "metadata": {},
   "outputs": [],
   "source": [
    "# Heatmap with landmarks\n",
    "model_mean.landmarks = face_ibug_68_to_face_ibug_68(PointCloud(model_mean.points[lms_indices]))\n",
    "model_mean.heatmap(random_mesh, inline=True, show_statistics=True, figure_id='Heatmap3')"
   ]
  },
  {
   "cell_type": "code",
   "execution_count": null,
   "metadata": {},
   "outputs": [],
   "source": [
    "random_mesh_landmarks = face_ibug_68_to_face_ibug_68(random_mesh.points[lms_indices])\n",
    "random_mesh_landmarks.view(inline=True, new_figure=False, figure_id='Heatmap2')"
   ]
  },
  {
   "cell_type": "markdown",
   "metadata": {},
   "source": [
    "<h3> Show Normals </h3>"
   ]
  },
  {
   "cell_type": "code",
   "execution_count": null,
   "metadata": {},
   "outputs": [],
   "source": [
    "pts = random_mesh.points[lms_indices]\n",
    "vrt = np.zeros((random_mesh.n_points,3))\n",
    "vrt[lms_indices] = random_mesh.vertex_normals()[lms_indices] / 5"
   ]
  },
  {
   "cell_type": "code",
   "execution_count": null,
   "metadata": {},
   "outputs": [],
   "source": [
    "random_mesh.view(inline=True, normals=vrt, \n",
    "                 normals_marker_size= 0.5,\n",
    "                 normals_line_width = 0.01,\n",
    "                figure_id='Normals')"
   ]
  },
  {
   "cell_type": "code",
   "execution_count": null,
   "metadata": {},
   "outputs": [],
   "source": [
    "random_mesh_landmarks.view(inline=True, figure_id='Normals', new_figure=False)"
   ]
  },
  {
   "cell_type": "code",
   "execution_count": null,
   "metadata": {
    "scrolled": false
   },
   "outputs": [],
   "source": [
    "random_mesh.landmarks = random_mesh_landmarks\n",
    "random_mesh.view(inline=True, normals=vrt, \n",
    "                 normals_marker_size= 0.5,\n",
    "                 normals_line_width = 0.01)"
   ]
  },
  {
   "cell_type": "markdown",
   "metadata": {},
   "source": [
    "<h3> Show Surface </h3>"
   ]
  },
  {
   "cell_type": "markdown",
   "metadata": {},
   "source": [
    "<h3> Show ColouredTriMesh </h3>\n"
   ]
  },
  {
   "cell_type": "code",
   "execution_count": null,
   "metadata": {},
   "outputs": [],
   "source": [
    "colors = np.random.rand(random_mesh.n_points)"
   ]
  },
  {
   "cell_type": "code",
   "execution_count": null,
   "metadata": {},
   "outputs": [],
   "source": [
    "colors[0:1000]= 0.1\n",
    "colors[1000:10000]= 0.2\n",
    "colors[1000:10000]= 0.4\n",
    "colors[10000:30000]= 0.6\n",
    "colors[30000:40000]= 0.8\n",
    "colors[40000:50000]= 0.8\n",
    "colors[50000:]= 1"
   ]
  },
  {
   "cell_type": "code",
   "execution_count": null,
   "metadata": {},
   "outputs": [],
   "source": [
    "new_mesh = ColouredTriMesh(random_mesh.points, random_mesh.trilist, colours=colors)\n",
    "new_mesh.view(inline=True)"
   ]
  },
  {
   "cell_type": "code",
   "execution_count": null,
   "metadata": {},
   "outputs": [],
   "source": [
    "new_mesh.landmarks = random_mesh_landmarks"
   ]
  },
  {
   "cell_type": "markdown",
   "metadata": {},
   "source": [
    "<h3> Show Graphs </h3>"
   ]
  },
  {
   "cell_type": "code",
   "execution_count": null,
   "metadata": {},
   "outputs": [],
   "source": [
    "from menpo.shape import PointUndirectedGraph     \n",
    "import numpy as np\n",
    "points = np.array([[10, 30, 10], [0, 20, 11], [20, 20, 11], [0, 10, 12], [20, 10, 12], [0, 0, 12]])                                                                                                                    \n",
    "edges = np.array([[0, 1], [1, 0], [0, 2], [2, 0], [1, 2], [2, 1], \n",
    "                  [1, 3], [3, 1], [2, 4], [4, 2], [3, 4], [4, 3],[3, 5], [5, 3]])  \n",
    "colors = [\n",
    "    0xff,\n",
    "    0xffff,\n",
    "    0xff00ff,\n",
    "    0x00ffff,\n",
    "    0xffff00,]\n",
    "\n",
    "graph = PointUndirectedGraph.init_from_edges(points, edges)   "
   ]
  },
  {
   "cell_type": "code",
   "execution_count": null,
   "metadata": {},
   "outputs": [],
   "source": [
    "graph.view(inline=True)"
   ]
  },
  {
   "cell_type": "code",
   "execution_count": null,
   "metadata": {},
   "outputs": [],
   "source": [
    "graph.view(inline=True, line_colour=colors, render_numbering=True)"
   ]
  },
  {
   "cell_type": "markdown",
   "metadata": {},
   "source": [
    "<h3> View a Morphable Model </h3>"
   ]
  },
  {
   "cell_type": "code",
   "execution_count": null,
   "metadata": {
    "scrolled": false
   },
   "outputs": [],
   "source": [
    "model.view(inline=True, figure_id='Model', n_parameters=10, landmarks_indices=lms_indices)"
   ]
  },
  {
   "cell_type": "code",
   "execution_count": null,
   "metadata": {},
   "outputs": [],
   "source": [
    "model.view(widget_style='')"
   ]
  },
  {
   "cell_type": "markdown",
   "metadata": {},
   "source": [
    "<h3> Load big meshes  </h3>"
   ]
  },
  {
   "cell_type": "code",
   "execution_count": null,
   "metadata": {},
   "outputs": [],
   "source": [
    "mesh = m3io.import_mesh('/data/meshes/mesh/33_plain.obj')"
   ]
  },
  {
   "cell_type": "code",
   "execution_count": null,
   "metadata": {},
   "outputs": [],
   "source": [
    "mesh.view(inline=True)"
   ]
  },
  {
   "cell_type": "code",
   "execution_count": null,
   "metadata": {},
   "outputs": [],
   "source": [
    "mesh_hq = m3io.import_mesh('/data/meshes/mesh/HQ_mesh_alex.obj')"
   ]
  },
  {
   "cell_type": "code",
   "execution_count": null,
   "metadata": {},
   "outputs": [],
   "source": [
    "mesh_hq"
   ]
  },
  {
   "cell_type": "code",
   "execution_count": null,
   "metadata": {},
   "outputs": [],
   "source": [
    "mesh_hq.view(inline=True)"
   ]
  },
  {
   "cell_type": "markdown",
   "metadata": {},
   "source": [
    "<h3> Fail cases (supposed you have already executed all the above cells)</h3> "
   ]
  },
  {
   "cell_type": "code",
   "execution_count": null,
   "metadata": {},
   "outputs": [],
   "source": [
    "# It should fail if the previous cells have been executed, as default values for landmarker viewer are\n",
    "# figure_id = None and new_figure=False, so it could not\n",
    "# find a figure with id None\n",
    "lms.view(inline=True,)"
   ]
  },
  {
   "cell_type": "code",
   "execution_count": null,
   "metadata": {},
   "outputs": [],
   "source": [
    "# It should fail if the previous cells have been executed, as we have already had a figure with id \n",
    "# James and we cannot create a new one with the same figure_id\n",
    "mesh.view(inline=True, figure_id='James', new_figure=True)"
   ]
  },
  {
   "cell_type": "code",
   "execution_count": null,
   "metadata": {},
   "outputs": [],
   "source": [
    "# It should fail if the previous cells have been executed, as we have already had a figure with id \n",
    "# Model and we cannot create a new one with the same figure_id\n",
    "model.view(inline=True, figure_id='Model')"
   ]
  },
  {
   "cell_type": "code",
   "execution_count": null,
   "metadata": {},
   "outputs": [],
   "source": [
    "# You have already created a heatmap between random_mesh and model_mean\n",
    "random_mesh.heatmap(model_mean, inline=True)`"
   ]
  },
  {
   "cell_type": "code",
   "execution_count": null,
   "metadata": {},
   "outputs": [],
   "source": [
    "# If you draw a new figure, the command should be the last one in the cell, preferably on its own cell\n",
    "lms.view(inline=True, new_figure=True)\n",
    "print('Hello World')"
   ]
  },
  {
   "cell_type": "markdown",
   "metadata": {},
   "source": [
    "<h3> Additional functions </h3>"
   ]
  },
  {
   "cell_type": "code",
   "execution_count": null,
   "metadata": {},
   "outputs": [],
   "source": [
    "from menpo3d.visualize import list_figures, dict_figures"
   ]
  },
  {
   "cell_type": "code",
   "execution_count": null,
   "metadata": {},
   "outputs": [],
   "source": [
    "list_figures()"
   ]
  },
  {
   "cell_type": "code",
   "execution_count": null,
   "metadata": {},
   "outputs": [],
   "source": [
    "dict_figures()"
   ]
  },
  {
   "cell_type": "markdown",
   "metadata": {},
   "source": [
    "<h3> Testing </h3>"
   ]
  },
  {
   "cell_type": "code",
   "execution_count": null,
   "metadata": {},
   "outputs": [],
   "source": [
    "from ipywidgets import Widget\n",
    "from menpo3d.visualize.viewk3dwidgets import K3dwidgetsRenderer"
   ]
  },
  {
   "cell_type": "code",
   "execution_count": null,
   "metadata": {},
   "outputs": [],
   "source": [
    "for x in Widget.widgets.values():\n",
    "    print(type(x),x.model_id)\n",
    "#    if isinstance(x, K3dwidgetsRenderer):\n",
    "    if hasattr(x,'figure_id'):\n",
    "        print(type(x),x.model_id, x.figure_id)"
   ]
  },
  {
   "cell_type": "code",
   "execution_count": null,
   "metadata": {},
   "outputs": [],
   "source": [
    "list_figures()"
   ]
  }
 ],
 "metadata": {
  "kernelspec": {
   "display_name": "Python 3",
   "language": "python",
   "name": "python3"
  },
  "language_info": {
   "codemirror_mode": {
    "name": "ipython",
    "version": 3
   },
   "file_extension": ".py",
   "mimetype": "text/x-python",
   "name": "python",
   "nbconvert_exporter": "python",
   "pygments_lexer": "ipython3",
   "version": "3.5.6"
  }
 },
 "nbformat": 4,
 "nbformat_minor": 4
}
