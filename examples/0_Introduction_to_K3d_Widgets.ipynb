{
 "cells": [
  {
   "cell_type": "code",
   "execution_count": 30,
   "metadata": {},
   "outputs": [],
   "source": [
    "import menpo3d.io as m3io\n",
    "import menpo.io as mio\n",
    "from menpo.shape import PointCloud, ColouredTriMesh\n",
    "from menpo.landmark import face_ibug_68_to_face_ibug_68\n",
    "import numpy as np"
   ]
  },
  {
   "cell_type": "markdown",
   "metadata": {},
   "source": [
    "<h3> Load the data (Mesh, landmarks and model) </h3>"
   ]
  },
  {
   "cell_type": "code",
   "execution_count": 2,
   "metadata": {},
   "outputs": [],
   "source": [
    "mesh = m3io.import_mesh('../menpo3d/data/james.obj')\n",
    "lms = m3io.import_landmark_file('../menpo3d/data/james.ljson')['LJSON']\n",
    "\n",
    "# Load model and its landmarks indices \n",
    "model =  mio.import_pickle('../menpo3d/data/3DMD_all_all_all_10.pkl')['model']\n",
    "lms_indices = [21868, 22404, 22298, 22327, 43430, 45175, 46312, 47132, 47911, 48692,\n",
    "               49737, 51376, 53136, 32516, 32616, 32205, 32701, 38910, 39396, 39693,\n",
    "               39934, 40131, 40843, 41006, 41179, 41430, 13399, 8161, 8172, 8179, 8185,\n",
    "               5622, 6881, 8202, 9403, 10764, 1831, 3887, 5049, 6214, 4805, 3643, 9955,\n",
    "               11095, 12255, 14197, 12397, 11366, 5779, 6024, 7014, 8215, 9294, 10267,\n",
    "               10922, 9556, 8836, 8236, 7636, 6794, 5905, 7264, 8223, 9063, 10404, 8828,\n",
    "               8228, 7509]"
   ]
  },
  {
   "cell_type": "markdown",
   "metadata": {},
   "source": [
    "<h3> Create new random instances </h3>"
   ]
  },
  {
   "cell_type": "code",
   "execution_count": 21,
   "metadata": {},
   "outputs": [],
   "source": [
    "cov = np.diag(model.eigenvalues)\n",
    "model_mean = model.mean()\n",
    "synthetic_weights = np.random.multivariate_normal(np.zeros(model.n_active_components),\n",
    "                                                 cov, 1000)\n",
    "random_mesh = model.instance(synthetic_weights[5])"
   ]
  },
  {
   "cell_type": "markdown",
   "metadata": {},
   "source": [
    "<h3> Show the mesh </h3>"
   ]
  },
  {
   "cell_type": "code",
   "execution_count": 6,
   "metadata": {
    "scrolled": false
   },
   "outputs": [
    {
     "data": {
      "application/vnd.jupyter.widget-view+json": {
       "model_id": "a5fe810bb84d49ceb32e27429e4a3ef8",
       "version_major": 2,
       "version_minor": 0
      },
      "text/plain": [
       "K3dwidgetsTexturedTriMeshViewer3d(antialias=3, axes=['x', 'y', 'z'], axes_helper=1.0, background_color=1677721…"
      ]
     },
     "metadata": {},
     "output_type": "display_data"
    }
   ],
   "source": [
    "# Default values for TriMesh, TextureMesh viewer are\n",
    "# figure_id None\n",
    "# new_figure True\n",
    "# in that case an automatic figure_id will be given\n",
    "# with 'Figure_{n}' format\n",
    "# n will be an increased integer starting from zero\n",
    "mesh.view(inline=True) # wait a bit before magic happens"
   ]
  },
  {
   "cell_type": "markdown",
   "metadata": {},
   "source": [
    "<h3> Show the mesh and landmarks </h3>"
   ]
  },
  {
   "cell_type": "code",
   "execution_count": 4,
   "metadata": {
    "scrolled": false
   },
   "outputs": [
    {
     "data": {
      "application/vnd.jupyter.widget-view+json": {
       "model_id": "9e03f85fa6f74d75b24532f05d0a3a9d",
       "version_major": 2,
       "version_minor": 0
      },
      "text/plain": [
       "K3dwidgetsTexturedTriMeshViewer3d(antialias=3, axes=['x', 'y', 'z'], axes_helper=1.0, background_color=1677721…"
      ]
     },
     "metadata": {},
     "output_type": "display_data"
    }
   ],
   "source": [
    "mesh.view(inline=True, figure_id='James')"
   ]
  },
  {
   "cell_type": "code",
   "execution_count": 7,
   "metadata": {},
   "outputs": [],
   "source": [
    "# Add landmarks to figure with id James\n",
    "lms_poincloud = PointCloud(lms.points)\n",
    "lms_poincloud.view(inline=True, figure_id='James',new_figure=False)"
   ]
  },
  {
   "cell_type": "code",
   "execution_count": 8,
   "metadata": {},
   "outputs": [],
   "source": [
    "# Add landmarks to figure with id Figure_0\n",
    "lms_poincloud.view(inline=True, figure_id='Figure_0', new_figure=False)"
   ]
  },
  {
   "cell_type": "markdown",
   "metadata": {},
   "source": [
    "<h3> Show a mesh that has landmarks </h3>"
   ]
  },
  {
   "cell_type": "code",
   "execution_count": 9,
   "metadata": {},
   "outputs": [],
   "source": [
    "mesh.landmarks = lms"
   ]
  },
  {
   "cell_type": "code",
   "execution_count": 10,
   "metadata": {},
   "outputs": [
    {
     "data": {
      "application/vnd.jupyter.widget-view+json": {
       "model_id": "f566fcbda8084286953ca39cf64de2c8",
       "version_major": 2,
       "version_minor": 0
      },
      "text/plain": [
       "K3dwidgetsLandmarkViewer3d(antialias=3, axes=['x', 'y', 'z'], axes_helper=1.0, background_color=16777215, came…"
      ]
     },
     "metadata": {},
     "output_type": "display_data"
    }
   ],
   "source": [
    "lms.view(inline=True, new_figure=True, render_numbering=True)"
   ]
  },
  {
   "cell_type": "code",
   "execution_count": 11,
   "metadata": {},
   "outputs": [
    {
     "data": {
      "application/vnd.jupyter.widget-view+json": {
       "model_id": "c5c1db3ea2ea43799656ae81ed933fdc",
       "version_major": 2,
       "version_minor": 0
      },
      "text/plain": [
       "K3dwidgetsTexturedTriMeshViewer3d(antialias=3, axes=['x', 'y', 'z'], axes_helper=1.0, background_color=1677721…"
      ]
     },
     "metadata": {},
     "output_type": "display_data"
    }
   ],
   "source": [
    "# The mesh has now landmarks, so they would be plotted as well\n",
    "# the figure id is now Figure_2\n",
    "mesh.view(inline=True)"
   ]
  },
  {
   "cell_type": "markdown",
   "metadata": {},
   "source": [
    "<h3> HeatMaps </h3>"
   ]
  },
  {
   "cell_type": "code",
   "execution_count": 14,
   "metadata": {},
   "outputs": [
    {
     "data": {
      "application/vnd.jupyter.widget-view+json": {
       "model_id": "19c45e65f1be427dbb8ef1c4167d2d7d",
       "version_major": 2,
       "version_minor": 0
      },
      "text/plain": [
       "K3dwidgetsHeatmapViewer3d(antialias=3, axes=['x', 'y', 'z'], axes_helper=1.0, background_color=16777215, camer…"
      ]
     },
     "metadata": {},
     "output_type": "display_data"
    }
   ],
   "source": [
    "# Heatmap between a random mesh and mean mesh\n",
    "random_mesh.heatmap(model_mean, inline=True)"
   ]
  },
  {
   "cell_type": "code",
   "execution_count": 15,
   "metadata": {},
   "outputs": [
    {
     "data": {
      "application/vnd.jupyter.widget-view+json": {
       "model_id": "93e3e8a47b574afa9cfb4a27b1197e98",
       "version_major": 2,
       "version_minor": 0
      },
      "text/plain": [
       "K3dwidgetsHeatmapViewer3d(antialias=3, axes=['x', 'y', 'z'], axes_helper=1.0, background_color=16777215, camer…"
      ]
     },
     "metadata": {},
     "output_type": "display_data"
    }
   ],
   "source": [
    "# Heatmap with statistics \n",
    "# Be careful, since we have already drawn a heatmap between\n",
    "# random and mean, we should use another name for figure\n",
    "random_mesh.heatmap(model_mean, inline=True, show_statistics=True, figure_id='Heatmap2')"
   ]
  },
  {
   "cell_type": "code",
   "execution_count": 16,
   "metadata": {},
   "outputs": [
    {
     "data": {
      "application/vnd.jupyter.widget-view+json": {
       "model_id": "5d9af15ad323436b88068e7f7ee27250",
       "version_major": 2,
       "version_minor": 0
      },
      "text/plain": [
       "K3dwidgetsHeatmapViewer3d(antialias=3, axes=['x', 'y', 'z'], axes_helper=1.0, background_color=16777215, camer…"
      ]
     },
     "metadata": {},
     "output_type": "display_data"
    }
   ],
   "source": [
    "# Heatmap with landmarks\n",
    "random_mesh.landmarks = face_ibug_68_to_face_ibug_68(PointCloud(random_mesh.points[lms_indices]))\n",
    "random_mesh.heatmap(model_mean, inline=True, show_statistics=True, figure_id='Heatmap3')"
   ]
  },
  {
   "cell_type": "markdown",
   "metadata": {},
   "source": [
    "<h3> Show Normals </h3>"
   ]
  },
  {
   "cell_type": "code",
   "execution_count": 17,
   "metadata": {},
   "outputs": [],
   "source": [
    "pts = random_mesh.points[lms_indices]\n",
    "vrt = np.zeros((random_mesh.n_points,3))\n",
    "vrt[lms_indices] = random_mesh.vertex_normals()[lms_indices] / 5"
   ]
  },
  {
   "cell_type": "code",
   "execution_count": 23,
   "metadata": {},
   "outputs": [
    {
     "data": {
      "application/vnd.jupyter.widget-view+json": {
       "model_id": "44077fc658924ffbbdc3865ccce32de2",
       "version_major": 2,
       "version_minor": 0
      },
      "text/plain": [
       "K3dwidgetsTriMeshViewer3d(antialias=3, axes=['x', 'y', 'z'], axes_helper=1.0, background_color=16777215, camer…"
      ]
     },
     "metadata": {},
     "output_type": "display_data"
    }
   ],
   "source": [
    "random_mesh.view(inline=True, normals=vrt, \n",
    "                 normals_marker_size= 0.5,\n",
    "                 normals_line_width = 0.01,\n",
    "                figure_id='Normals')"
   ]
  },
  {
   "cell_type": "code",
   "execution_count": 22,
   "metadata": {},
   "outputs": [],
   "source": [
    "random_mesh_landmarks = face_ibug_68_to_face_ibug_68(random_mesh.points[lms_indices])"
   ]
  },
  {
   "cell_type": "code",
   "execution_count": 24,
   "metadata": {},
   "outputs": [],
   "source": [
    "random_mesh_landmarks.view(inline=True, figure_id='Normals', new_figure=False)"
   ]
  },
  {
   "cell_type": "code",
   "execution_count": 25,
   "metadata": {
    "scrolled": false
   },
   "outputs": [
    {
     "data": {
      "application/vnd.jupyter.widget-view+json": {
       "model_id": "c51bd921707d469fab10ee45632b3ebc",
       "version_major": 2,
       "version_minor": 0
      },
      "text/plain": [
       "K3dwidgetsTriMeshViewer3d(antialias=3, axes=['x', 'y', 'z'], axes_helper=1.0, background_color=16777215, camer…"
      ]
     },
     "metadata": {},
     "output_type": "display_data"
    }
   ],
   "source": [
    "random_mesh.landmarks = random_mesh_landmarks\n",
    "random_mesh.view(inline=True, normals=vrt, \n",
    "                 normals_marker_size= 0.5,\n",
    "                 normals_line_width = 0.01)"
   ]
  },
  {
   "cell_type": "markdown",
   "metadata": {},
   "source": [
    "<h3> Show Surface </h3>"
   ]
  },
  {
   "cell_type": "markdown",
   "metadata": {},
   "source": [
    "<h3> Show ColouredTriMesh </h3>\n"
   ]
  },
  {
   "cell_type": "code",
   "execution_count": 28,
   "metadata": {},
   "outputs": [],
   "source": [
    "colors = np.random.rand(random_mesh.n_points)"
   ]
  },
  {
   "cell_type": "code",
   "execution_count": 34,
   "metadata": {},
   "outputs": [
    {
     "data": {
      "application/vnd.jupyter.widget-view+json": {
       "model_id": "ce7a7573afda4c97ba8c23cabddbda00",
       "version_major": 2,
       "version_minor": 0
      },
      "text/plain": [
       "K3dwidgetsColouredTriMeshViewer3d(antialias=3, axes=['x', 'y', 'z'], axes_helper=1.0, background_color=1677721…"
      ]
     },
     "metadata": {},
     "output_type": "display_data"
    }
   ],
   "source": [
    "new_mesh = ColouredTriMesh(random_mesh.points, random_mesh.trilist, colours=colors)\n",
    "new_mesh.view(inline=True)"
   ]
  },
  {
   "cell_type": "markdown",
   "metadata": {},
   "source": [
    "<h3> Show Graphs </h3>"
   ]
  },
  {
   "cell_type": "code",
   "execution_count": 35,
   "metadata": {},
   "outputs": [],
   "source": [
    "from menpo.shape import PointUndirectedGraph     \n",
    "import numpy as np\n",
    "points = np.array([[10, 30, 10], [0, 20, 11], [20, 20, 11], [0, 10, 12], [20, 10, 12], [0, 0, 12]])                                                                                                                    \n",
    "edges = np.array([[0, 1], [1, 0], [0, 2], [2, 0], [1, 2], [2, 1], \n",
    "                  [1, 3], [3, 1], [2, 4], [4, 2], [3, 4], [4, 3],[3, 5], [5, 3]])  \n",
    "colors = [\n",
    "    0xff,\n",
    "    0xffff,\n",
    "    0xff00ff,\n",
    "    0x00ffff,\n",
    "    0xffff00,]\n",
    "\n",
    "graph = PointUndirectedGraph.init_from_edges(points, edges)   "
   ]
  },
  {
   "cell_type": "code",
   "execution_count": 36,
   "metadata": {},
   "outputs": [
    {
     "data": {
      "application/vnd.jupyter.widget-view+json": {
       "model_id": "c156658475d54fb6b6421ee105fc4f7d",
       "version_major": 2,
       "version_minor": 0
      },
      "text/plain": [
       "K3dwidgetsPointGraphViewer3d(antialias=3, axes=['x', 'y', 'z'], axes_helper=1.0, background_color=16777215, ca…"
      ]
     },
     "metadata": {},
     "output_type": "display_data"
    }
   ],
   "source": [
    "graph.view(inline=True)"
   ]
  },
  {
   "cell_type": "code",
   "execution_count": 37,
   "metadata": {},
   "outputs": [
    {
     "data": {
      "application/vnd.jupyter.widget-view+json": {
       "model_id": "460de629759b4aab8b6059ce88d58e19",
       "version_major": 2,
       "version_minor": 0
      },
      "text/plain": [
       "K3dwidgetsPointGraphViewer3d(antialias=3, axes=['x', 'y', 'z'], axes_helper=1.0, background_color=16777215, ca…"
      ]
     },
     "metadata": {},
     "output_type": "display_data"
    }
   ],
   "source": [
    "graph.view(inline=True, line_colour=colors, render_numbering=True)"
   ]
  },
  {
   "cell_type": "markdown",
   "metadata": {},
   "source": [
    "<h3> View a Morphable Model </h3>"
   ]
  },
  {
   "cell_type": "code",
   "execution_count": 38,
   "metadata": {
    "scrolled": false
   },
   "outputs": [
    {
     "data": {
      "application/vnd.jupyter.widget-view+json": {
       "model_id": "08b762604afc44979ac836789c5078c0",
       "version_major": 2,
       "version_minor": 0
      },
      "text/plain": [
       "K3dwidgetsPCAModelViewer3d(children=(LinearModelParametersWidget(children=(VBox(box_style='info', children=(VB…"
      ]
     },
     "metadata": {},
     "output_type": "display_data"
    },
    {
     "name": "stderr",
     "output_type": "stream",
     "text": [
      "/home/athanasiosp/miniconda3/envs/my_menpo/lib/python3.5/site-packages/traittypes/traittypes.py:101: UserWarning: Given trait value dtype \"float64\" does not match required type \"float32\". A coerced copy has been created.\n",
      "  np.dtype(self.dtype).name))\n"
     ]
    }
   ],
   "source": [
    "model.view(inline=True, figure_id='Model', n_parameters=10, landmarks_indices=lms_indices)"
   ]
  },
  {
   "cell_type": "code",
   "execution_count": 39,
   "metadata": {},
   "outputs": [
    {
     "data": {
      "application/vnd.jupyter.widget-view+json": {
       "model_id": "4ca4b7de1633432bba050bdc6168a3b8",
       "version_major": 2,
       "version_minor": 0
      },
      "text/plain": [
       "K3dwidgetsPCAModelViewer3d(children=(LinearModelParametersWidget(children=(VBox(children=(VBox(children=(HBox(…"
      ]
     },
     "metadata": {},
     "output_type": "display_data"
    }
   ],
   "source": [
    "model.view(widget_style='')"
   ]
  },
  {
   "cell_type": "markdown",
   "metadata": {},
   "source": [
    "<h3> Fail cases (supposed you have already executed all the above cells)</h3> "
   ]
  },
  {
   "cell_type": "code",
   "execution_count": null,
   "metadata": {},
   "outputs": [],
   "source": [
    "# It should fail if the previous cells have been executed, as default values for landmarker viewer are\n",
    "# figure_id = None and new_figure=False, so it could not\n",
    "# find a figure with id None\n",
    "lms.view(inline=True,)"
   ]
  },
  {
   "cell_type": "code",
   "execution_count": null,
   "metadata": {},
   "outputs": [],
   "source": [
    "# It should fail if the previous cells have been executed, as we have already had a figure with id \n",
    "# James and we cannot create a new one with the same figure_id\n",
    "mesh.view(inline=True, figure_id='James', new_figure=True)"
   ]
  },
  {
   "cell_type": "code",
   "execution_count": null,
   "metadata": {},
   "outputs": [],
   "source": [
    "# It should fail if the previous cells have been executed, as we have already had a figure with id \n",
    "# Model and we cannot create a new one with the same figure_id\n",
    "model.view(inline=True, figure_id='Model')"
   ]
  },
  {
   "cell_type": "code",
   "execution_count": null,
   "metadata": {},
   "outputs": [],
   "source": [
    "# You have already created a heatmap between random_mesh and model_mean\n",
    "random_mesh.heatmap(model_mean, inline=True)`"
   ]
  },
  {
   "cell_type": "code",
   "execution_count": null,
   "metadata": {},
   "outputs": [],
   "source": [
    "# If you draw a new figure, the command should be the last one in the cell, preferably on its own cell\n",
    "lms.view(inline=True, new_figure=True)\n",
    "print('Hello World')\n"
   ]
  },
  {
   "cell_type": "markdown",
   "metadata": {},
   "source": [
    "<h3> Additional functions </h3>"
   ]
  },
  {
   "cell_type": "code",
   "execution_count": null,
   "metadata": {},
   "outputs": [],
   "source": [
    "from menpo3d.visualize import list_figures, dict_figures"
   ]
  },
  {
   "cell_type": "code",
   "execution_count": null,
   "metadata": {},
   "outputs": [],
   "source": [
    "list_figures()"
   ]
  },
  {
   "cell_type": "code",
   "execution_count": null,
   "metadata": {},
   "outputs": [],
   "source": [
    "dict_figures()"
   ]
  },
  {
   "cell_type": "markdown",
   "metadata": {},
   "source": [
    "<h3> Testing </h3>"
   ]
  },
  {
   "cell_type": "code",
   "execution_count": null,
   "metadata": {},
   "outputs": [],
   "source": [
    "from ipywidgets import Widget\n",
    "from menpo3d.visualize.viewk3dwidgets import K3dwidgetsRenderer"
   ]
  },
  {
   "cell_type": "code",
   "execution_count": null,
   "metadata": {},
   "outputs": [],
   "source": [
    "for x in Widget.widgets.values():\n",
    "    print(type(x),x.model_id)\n",
    "#    if isinstance(x, K3dwidgetsRenderer):\n",
    "    if hasattr(x,'figure_id'):\n",
    "        print(type(x),x.model_id, x.figure_id)"
   ]
  },
  {
   "cell_type": "code",
   "execution_count": null,
   "metadata": {},
   "outputs": [],
   "source": [
    "list_figures()"
   ]
  }
 ],
 "metadata": {
  "kernelspec": {
   "display_name": "Python 3",
   "language": "python",
   "name": "python3"
  },
  "language_info": {
   "codemirror_mode": {
    "name": "ipython",
    "version": 3
   },
   "file_extension": ".py",
   "mimetype": "text/x-python",
   "name": "python",
   "nbconvert_exporter": "python",
   "pygments_lexer": "ipython3",
   "version": "3.5.6"
  }
 },
 "nbformat": 4,
 "nbformat_minor": 4
}
